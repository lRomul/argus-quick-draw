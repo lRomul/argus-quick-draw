{
 "cells": [
  {
   "cell_type": "code",
   "execution_count": null,
   "metadata": {},
   "outputs": [],
   "source": [
    "import os\n",
    "import cv2\n",
    "import numpy as np\n",
    "\n",
    "from torch.utils.data import DataLoader\n",
    "\n",
    "import argus\n",
    "from argus import Model\n",
    "from argus.callbacks import MonitorCheckpoint, EarlyStopping, LoggingToFile\n",
    "\n",
    "from src.datasets import DrawDataset, get_train_val_samples\n",
    "from src.transforms import ImageTransform, DrawTransform\n",
    "from src.argus_models import CnnFinetune\n",
    "from src import config\n",
    "\n",
    "import matplotlib.pyplot as plt\n",
    "%matplotlib inline"
   ]
  },
  {
   "cell_type": "code",
   "execution_count": null,
   "metadata": {},
   "outputs": [],
   "source": [
    "def imshow(image, figsize=(3, 3)):\n",
    "    plt.figure(figsize=figsize)\n",
    "    plt.imshow(image)\n",
    "    plt.show()"
   ]
  },
  {
   "cell_type": "code",
   "execution_count": null,
   "metadata": {},
   "outputs": [],
   "source": [
    "image_size = 128\n",
    "image_pad = 8\n",
    "image_line_width = 3\n",
    "time_color = True\n",
    "train_batch_size = 128\n",
    "val_batch_size = 128\n",
    "train_epoch_size = 1000000\n",
    "val_key_id_path = '/workdir/data/val_key_ids_001.json'"
   ]
  },
  {
   "cell_type": "markdown",
   "metadata": {},
   "source": [
    "# Data"
   ]
  },
  {
   "cell_type": "code",
   "execution_count": null,
   "metadata": {},
   "outputs": [],
   "source": [
    "train_samples, val_samples = get_train_val_samples(val_key_id_path)"
   ]
  },
  {
   "cell_type": "code",
   "execution_count": null,
   "metadata": {},
   "outputs": [],
   "source": [
    "draw_transform = DrawTransform(image_size, image_pad, image_line_width, time_color)\n",
    "train_trns = ImageTransform(True)\n",
    "train_dataset = DrawDataset(train_samples, draw_transform,\n",
    "                            size=train_epoch_size, image_transform=train_trns)\n",
    "val_trns = ImageTransform(False)\n",
    "val_dataset = DrawDataset(val_samples, draw_transform, image_transform=val_trns)\n",
    "\n",
    "train_loader = DataLoader(train_dataset, batch_size=train_batch_size, num_workers=8, shuffle=True)\n",
    "val_loader = DataLoader(val_dataset, batch_size=val_batch_size, num_workers=8, shuffle=False)"
   ]
  },
  {
   "cell_type": "code",
   "execution_count": null,
   "metadata": {},
   "outputs": [],
   "source": [
    "n_images_to_draw = 3\n",
    "\n",
    "for img, trg in train_loader:\n",
    "    for i in range(n_images_to_draw):\n",
    "        img_i = img[i, 0, :, :].numpy()\n",
    "        print(config.IDX_TO_CLASS[trg[i].item()])\n",
    "        imshow(img_i)\n",
    "    break"
   ]
  },
  {
   "cell_type": "markdown",
   "metadata": {},
   "source": [
    "# Model"
   ]
  },
  {
   "cell_type": "code",
   "execution_count": null,
   "metadata": {},
   "outputs": [],
   "source": [
    "params = {\n",
    "    'nn_module': {\n",
    "        'model_name': 'se_resnext50_32x4d',\n",
    "        'num_classes': len(config.CLASSES),\n",
    "        'pretrained': True,\n",
    "        'dropout_p': 0.2\n",
    "    },\n",
    "    'optimizer': ('Adam', {'lr': 0.001}),\n",
    "    'loss': 'CrossEntropyLoss',\n",
    "    'device': 'cuda'\n",
    "}\n",
    "\n",
    "model = CnnFinetune(params)"
   ]
  },
  {
   "cell_type": "code",
   "execution_count": null,
   "metadata": {},
   "outputs": [],
   "source": [
    "experiment_name = 'cnn_fine_se_resnext50_001'\n",
    "\n",
    "callbacks = [\n",
    "    MonitorCheckpoint(f'/workdir/data/experiments/{experiment_name}', monitor='val_accuracy', max_saves=3),\n",
    "    EarlyStopping(monitor='val_accuracy', patience=50),\n",
    "    LoggingToFile(f'/workdir/data/experiments/{experiment_name}/log.txt')\n",
    "]\n",
    "\n",
    "model.fit(train_loader, \n",
    "          val_loader=val_loader,\n",
    "          max_epochs=1000,\n",
    "          callbacks=callbacks,\n",
    "          metrics=['accuracy'])"
   ]
  },
  {
   "cell_type": "code",
   "execution_count": null,
   "metadata": {},
   "outputs": [],
   "source": []
  }
 ],
 "metadata": {
  "kernelspec": {
   "display_name": "Python 3",
   "language": "python",
   "name": "python3"
  },
  "language_info": {
   "codemirror_mode": {
    "name": "ipython",
    "version": 3
   },
   "file_extension": ".py",
   "mimetype": "text/x-python",
   "name": "python",
   "nbconvert_exporter": "python",
   "pygments_lexer": "ipython3",
   "version": "3.6.5"
  }
 },
 "nbformat": 4,
 "nbformat_minor": 2
}
