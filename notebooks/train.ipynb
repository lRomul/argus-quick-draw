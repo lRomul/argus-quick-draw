{
 "cells": [
  {
   "cell_type": "code",
   "execution_count": 1,
   "metadata": {},
   "outputs": [
    {
     "name": "stdout",
     "output_type": "stream",
     "text": [
      "The autoreload extension is already loaded. To reload it, use:\n",
      "  %reload_ext autoreload\n"
     ]
    }
   ],
   "source": [
    ":8888import os\n",
    "import cv2\n",
    "import numpy as np\n",
    "\n",
    "from torch.utils.data import DataLoader\n",
    "\n",
    "import argus\n",
    "from argus import Model\n",
    "from argus.callbacks import MonitorCheckpoint, EarlyStopping\n",
    "from argus.callbacks import LoggingToFile, ReduceLROnPlateau\n",
    "\n",
    "from src.datasets import DrawDataset, get_train_val_samples\n",
    "from src.transforms import ImageTransform, DrawTransform\n",
    "from src.argus_models import CnnFinetune, DrawMetaModel\n",
    "from src.metrics import MAPatK\n",
    "from src import config\n",
    "\n",
    "import matplotlib.pyplot as plt\n",
    "%matplotlib inline\n",
    "\n",
    "%load_ext autoreload\n",
    "%autoreload 2"
   ]
  },
  {
   "cell_type": "code",
   "execution_count": 2,
   "metadata": {},
   "outputs": [],
   "source": [
    "def imshow(image, figsize=(3, 3)):\n",
    "    plt.figure(figsize=figsize)\n",
    "    plt.imshow(image)\n",
    "    plt.show()"
   ]
  },
  {
   "cell_type": "code",
   "execution_count": 3,
   "metadata": {},
   "outputs": [],
   "source": [
    "image_size = 256\n",
    "scale_size = 256\n",
    "image_pad = 6\n",
    "image_line_width = 3\n",
    "time_color = True\n",
    "train_batch_size = 56\n",
    "val_batch_size = 56\n",
    "train_epoch_size = 500000\n",
    "val_key_id_path = '/workdir/data/val_key_ids_001.json'"
   ]
  },
  {
   "cell_type": "markdown",
   "metadata": {},
   "source": [
    "# Data"
   ]
  },
  {
   "cell_type": "code",
   "execution_count": 4,
   "metadata": {},
   "outputs": [
    {
     "name": "stderr",
     "output_type": "stream",
     "text": [
      "100%|██████████| 340/340 [03:48<00:00,  1.49it/s]\n"
     ]
    }
   ],
   "source": [
    "train_samples, val_samples = get_train_val_samples(val_key_id_path)"
   ]
  },
  {
   "cell_type": "code",
   "execution_count": 5,
   "metadata": {},
   "outputs": [],
   "source": [
    "draw_transform = DrawTransform(image_size, image_pad, image_line_width, time_color)\n",
    "train_trns = ImageTransform(True, scale_size)\n",
    "train_dataset = DrawDataset(train_samples, draw_transform,\n",
    "                            size=train_epoch_size, image_transform=train_trns)\n",
    "val_trns = ImageTransform(False, scale_size)\n",
    "val_dataset = DrawDataset(val_samples, draw_transform, image_transform=val_trns)\n",
    "\n",
    "train_loader = DataLoader(train_dataset, batch_size=train_batch_size, num_workers=8, shuffle=True)\n",
    "val_loader = DataLoader(val_dataset, batch_size=val_batch_size, num_workers=8, shuffle=False)"
   ]
  },
  {
   "cell_type": "code",
   "execution_count": 6,
   "metadata": {},
   "outputs": [
    {
     "name": "stdout",
     "output_type": "stream",
     "text": [
      "dishwasher\n"
     ]
    },
    {
     "data": {
      "image/png": "[encoded data removed]",
      "text/plain": [
       "<Figure size 216x216 with 1 Axes>"
      ]
     },
     "metadata": {},
     "output_type": "display_data"
    },
    {
     "name": "stdout",
     "output_type": "stream",
     "text": [
      "chandelier\n"
     ]
    },
    {
     "data": {
      "image/png": "[encoded data removed]",
      "text/plain": [
       "<Figure size 216x216 with 1 Axes>"
      ]
     },
     "metadata": {},
     "output_type": "display_data"
    },
    {
     "name": "stdout",
     "output_type": "stream",
     "text": [
      "crocodile\n"
     ]
    },
    {
     "data": {
      "image/png": "[encoded data removed]",
      "text/plain": [
       "<Figure size 216x216 with 1 Axes>"
      ]
     },
     "metadata": {},
     "output_type": "display_data"
    }
   ],
   "source": [
    "n_images_to_draw = 3\n",
    "\n",
    "for img, trg in train_loader:\n",
    "    for i in range(n_images_to_draw):\n",
    "        img_i = img[0][i, 0, :, :].numpy()\n",
    "        print(config.IDX_TO_CLASS[trg[i].item()])\n",
    "        imshow(img_i)\n",
    "    break"
   ]
  },
  {
   "cell_type": "markdown",
   "metadata": {},
   "source": [
    "# Model"
   ]
  },
  {
   "cell_type": "code",
   "execution_count": 7,
   "metadata": {},
   "outputs": [],
   "source": [
    "params = {\n",
    "    'nn_module': ('CountryEmbModel' ,{\n",
    "        'cnn_finetune': {\n",
    "            'model_name': 'se_resnext50_32x4d',\n",
    "            'num_classes': len(config.CLASSES),\n",
    "            'pretrained': True,\n",
    "            'dropout_p': 0.2\n",
    "        },\n",
    "        'num_country': len(config.COUNTRIES),\n",
    "        'country_emb_dim': 10\n",
    "    }),\n",
    "    'optimizer': ('Adam', {'lr': 0.001}),\n",
    "    'loss': 'CrossEntropyLoss',\n",
    "    'device': 'cuda'\n",
    "}\n",
    "\n",
    "model = DrawMetaModel(params)"
   ]
  },
  {
   "cell_type": "code",
   "execution_count": 8,
   "metadata": {},
   "outputs": [],
   "source": [
    "from argus import load_model\n",
    "\n",
    "model = load_model('/workdir/data/experiments/rainbow_country_se_resnext50_001/model-109-0.885694.pth')\n",
    "model.set_lr(0.0001)"
   ]
  },
  {
   "cell_type": "code",
   "execution_count": null,
   "metadata": {
    "scrolled": true
   },
   "outputs": [
    {
     "name": "stderr",
     "output_type": "stream",
     "text": [
      "2018-11-15 22:27:04,642 INFO Validation, val_loss: 4.25970181, val_accuracy: 0.20320640, val_map_at_k: 0.27304059\n"
     ]
    }
   ],
   "source": [
    "experiment_name = 'rainbow_country_se_resnext50_001_after_001'\n",
    "\n",
    "callbacks = [\n",
    "    MonitorCheckpoint(f'/workdir/data/experiments/{experiment_name}', monitor='val_map_at_k', max_saves=3),\n",
    "    EarlyStopping(monitor='val_map_at_k', patience=50),\n",
    "    ReduceLROnPlateau(monitor='val_map_at_k', factor=0.64, patience=2, min_lr=0.000001),\n",
    "    LoggingToFile(f'/workdir/data/experiments/{experiment_name}/log.txt')\n",
    "]\n",
    "\n",
    "model.fit(train_loader, \n",
    "          val_loader=val_loader,\n",
    "          max_epochs=1000,\n",
    "          callbacks=callbacks,\n",
    "          metrics=['accuracy', MAPatK(k=3)])"
   ]
  },
  {
   "cell_type": "markdown",
   "metadata": {},
   "source": [
    "# Predict "
   ]
  },
  {
   "cell_type": "code",
   "execution_count": null,
   "metadata": {},
   "outputs": [],
   "source": [
    "import torch\n",
    "\n",
    "\n",
    "class Predictor:\n",
    "    def __init__(self, model_path, draw_transform, image_transform):\n",
    "        self.model = load_model(model_path)\n",
    "        self.model.nn_module.eval()\n",
    "\n",
    "        self.draw_transform = draw_transform\n",
    "        self.image_transform = image_transform\n",
    "\n",
    "    def __call__(self, samples):\n",
    "        tensors = []\n",
    "        country_tensors = []\n",
    "        for drawing, country in samples:\n",
    "            image = self.draw_transform(drawing)\n",
    "            tensor = self.image_transform(image)\n",
    "            if country == 'OTHER':\n",
    "                country = 'nan'\n",
    "            country = torch.tensor(config.COUNTRY_TO_IDX[country])\n",
    "            country_tensors.append(country)\n",
    "            tensors.append(tensor)\n",
    "        \n",
    "        tensor = torch.stack(tensors, dim=0)\n",
    "        tensor = tensor.to(self.model.device)\n",
    "        \n",
    "        country_tensor = torch.stack(country_tensors, dim=0)\n",
    "        country_tensor = country_tensor.to(self.model.device)\n",
    "\n",
    "        with torch.no_grad():\n",
    "            probs = self.model.predict((tensor, country_tensor))\n",
    "            return probs\n"
   ]
  },
  {
   "cell_type": "code",
   "execution_count": null,
   "metadata": {
    "scrolled": true
   },
   "outputs": [],
   "source": [
    "import pandas as pd\n",
    "from src import config\n",
    "import tqdm\n",
    "\n",
    "from argus import load_model\n",
    "\n",
    "pred_batch_size = 1024 \n",
    "model_path = '/workdir/data/experiments/rainbow_country_se_resnext50_001/model-109-0.885694.pth'\n",
    "\n",
    "test_df = pd.read_csv(config.TEST_SIMPLIFIED_PATH)\n",
    "sample_subm = pd.read_csv(config.SAMPLE_SUBMISSION)\n",
    "predictor = Predictor(model_path, draw_transform, val_trns)\n",
    "\n",
    "drawings = []\n",
    "key_ids = []\n",
    "pred_words = []\n",
    "pred_key_ids = []\n",
    "for i, row in tqdm.tqdm(test_df.iterrows()):\n",
    "    drawing = eval(row.drawing)\n",
    "    \n",
    "    drawings.append((drawing, str(row.countrycode)))\n",
    "    key_ids.append(row.key_id)\n",
    "    if len(drawings) == pred_batch_size:\n",
    "        probs = predictor(drawings).cpu().numpy()\n",
    "        preds_idx = probs.argsort(axis=1)\n",
    "        preds_idx = np.fliplr(preds_idx)[:, :3]\n",
    "        for pred_idx, key_id in zip(preds_idx, key_ids):\n",
    "            words = [config.IDX_TO_CLASS[i].replace(' ', '_') for i in pred_idx]\n",
    "            pred_words.append(\" \".join(words))\n",
    "            pred_key_ids.append(key_id)\n",
    "            \n",
    "        drawings = []\n",
    "        key_ids = []\n",
    "        \n",
    "probs = predictor(drawings).cpu().numpy()\n",
    "preds_idx = probs.argsort(axis=1)\n",
    "preds_idx = np.fliplr(preds_idx)[:, :3]\n",
    "for pred_idx, key_id in zip(preds_idx, key_ids):\n",
    "    words = [config.IDX_TO_CLASS[i].replace(' ', '_') for i in pred_idx]\n",
    "    pred_words.append(\" \".join(words))\n",
    "    pred_key_ids.append(key_id)\n",
    "\n",
    "drawings = []\n",
    "key_ids = []\n",
    "    \n",
    "subm = pd.DataFrame({'key_id': pred_key_ids, 'word': pred_words})"
   ]
  },
  {
   "cell_type": "code",
   "execution_count": null,
   "metadata": {},
   "outputs": [],
   "source": [
    "subm.to_csv('/workdir/data/rainbow_country_se_resnext50_001.csv', index=False)"
   ]
  },
  {
   "cell_type": "code",
   "execution_count": null,
   "metadata": {},
   "outputs": [],
   "source": []
  }
 ],
 "metadata": {
  "kernelspec": {
   "display_name": "Python 3",
   "language": "python",
   "name": "python3"
  },
  "language_info": {
   "codemirror_mode": {
    "name": "ipython",
    "version": 3
   },
   "file_extension": ".py",
   "mimetype": "text/x-python",
   "name": "python",
   "nbconvert_exporter": "python",
   "pygments_lexer": "ipython3",
   "version": "3.6.5"
  }
 },
 "nbformat": 4,
 "nbformat_minor": 2
}
